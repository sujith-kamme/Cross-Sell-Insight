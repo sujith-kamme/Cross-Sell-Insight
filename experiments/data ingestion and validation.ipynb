{
 "cells": [
  {
   "cell_type": "code",
   "execution_count": 7,
   "metadata": {},
   "outputs": [],
   "source": [
    "import os\n",
    "import boto3\n",
    "import yaml"
   ]
  },
  {
   "cell_type": "code",
   "execution_count": 9,
   "metadata": {},
   "outputs": [],
   "source": [
    "with open(\"configs/aws_secret_keys.yaml\", 'r') as file:\n",
    "    aws_credentials = yaml.safe_load(file)\n",
    "aws_access_key_id = aws_credentials['aws_access_key_id']\n",
    "aws_secret_access_key = aws_credentials['aws_secret_access_key']"
   ]
  },
  {
   "cell_type": "code",
   "execution_count": 10,
   "metadata": {},
   "outputs": [],
   "source": [
    "s3 = boto3.client(\n",
    "                's3',\n",
    "                aws_access_key_id=aws_access_key_id,\n",
    "                aws_secret_access_key=aws_secret_access_key)\n",
    "\n",
    "s3.download_file(\"crosssellinsight\",\"csi_dataset.zip\", \"artifacts/dataset/dataset.zip\")"
   ]
  },
  {
   "cell_type": "code",
   "execution_count": 11,
   "metadata": {},
   "outputs": [
    {
     "name": "stdout",
     "output_type": "stream",
     "text": [
      "Contents of artifacts/dataset/dataset.zip have been extracted to artifacts/dataset/csi_dataset\n"
     ]
    }
   ],
   "source": [
    "import zipfile\n",
    "zip_file_path = 'artifacts/dataset/dataset.zip'\n",
    "extracted_dir = 'artifacts/dataset/csi_dataset'\n",
    "\n",
    "with zipfile.ZipFile(zip_file_path, 'r') as zip_ref:\n",
    "    zip_ref.extractall(extracted_dir)\n",
    "\n",
    "print(f'Contents of {zip_file_path} have been extracted to {extracted_dir}')\n"
   ]
  },
  {
   "cell_type": "code",
   "execution_count": 12,
   "metadata": {},
   "outputs": [
    {
     "name": "stdout",
     "output_type": "stream",
     "text": [
      "test.csv exists\n",
      "train.csv exists\n",
      "sample_submission.csv exists\n"
     ]
    }
   ],
   "source": [
    "required_files=[\"train.csv\",\"test.csv\",\"sample_submission.csv\"]\n",
    "\n",
    "files_in_directory = os.listdir(\"artifacts/dataset/csi_dataset\")\n",
    "\n",
    "for file_name in files_in_directory:\n",
    "    if file_name in required_files:\n",
    "        print(f\"{file_name} exists\")\n",
    "    else:\n",
    "        print(f\"{file_name} file not found\")\n",
    "   "
   ]
  }
 ],
 "metadata": {
  "kernelspec": {
   "display_name": "csivenv",
   "language": "python",
   "name": "python3"
  },
  "language_info": {
   "codemirror_mode": {
    "name": "ipython",
    "version": 3
   },
   "file_extension": ".py",
   "mimetype": "text/x-python",
   "name": "python",
   "nbconvert_exporter": "python",
   "pygments_lexer": "ipython3",
   "version": "3.8.11"
  },
  "orig_nbformat": 4
 },
 "nbformat": 4,
 "nbformat_minor": 2
}
