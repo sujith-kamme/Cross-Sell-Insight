{
 "cells": [
  {
   "cell_type": "code",
   "execution_count": 2,
   "metadata": {},
   "outputs": [],
   "source": [
    "import os\n",
    "import boto3\n",
    "import yaml"
   ]
  },
  {
   "cell_type": "code",
   "execution_count": 4,
   "metadata": {},
   "outputs": [],
   "source": [
    "os.chdir(\"../\")"
   ]
  },
  {
   "cell_type": "code",
   "execution_count": 5,
   "metadata": {},
   "outputs": [],
   "source": [
    "with open(\"configs/aws_secret_keys.yaml\", 'r') as file:\n",
    "    aws_credentials = yaml.safe_load(file)\n",
    "aws_access_key_id = aws_credentials['aws_access_key_id']\n",
    "aws_secret_access_key = aws_credentials['aws_secret_access_key']"
   ]
  },
  {
   "cell_type": "code",
   "execution_count": 6,
   "metadata": {},
   "outputs": [],
   "source": [
    "s3 = boto3.client(\n",
    "                's3',\n",
    "                aws_access_key_id=aws_access_key_id,\n",
    "                aws_secret_access_key=aws_secret_access_key)\n",
    "\n",
    "s3.download_file(\"crosssellinsight\",\"csi_dataset.zip\", \"artifacts/dataset/dataset.zip\")"
   ]
  },
  {
   "cell_type": "code",
   "execution_count": 7,
   "metadata": {},
   "outputs": [
    {
     "name": "stdout",
     "output_type": "stream",
     "text": [
      "Contents of artifacts/dataset/dataset.zip have been extracted to artifacts/dataset/csi_dataset\n"
     ]
    }
   ],
   "source": [
    "import zipfile\n",
    "zip_file_path = 'artifacts/dataset/dataset.zip'\n",
    "extracted_dir = 'artifacts/dataset/Cross Sell Insight dataset'\n",
    "\n",
    "with zipfile.ZipFile(zip_file_path, 'r') as zip_ref:\n",
    "    zip_ref.extractall(extracted_dir)\n",
    "\n",
    "print(f'Contents of {zip_file_path} have been extracted to {extracted_dir}')\n"
   ]
  }
 ],
 "metadata": {
  "kernelspec": {
   "display_name": "csivenv",
   "language": "python",
   "name": "python3"
  },
  "language_info": {
   "codemirror_mode": {
    "name": "ipython",
    "version": 3
   },
   "file_extension": ".py",
   "mimetype": "text/x-python",
   "name": "python",
   "nbconvert_exporter": "python",
   "pygments_lexer": "ipython3",
   "version": "3.8.11"
  },
  "orig_nbformat": 4
 },
 "nbformat": 4,
 "nbformat_minor": 2
}
